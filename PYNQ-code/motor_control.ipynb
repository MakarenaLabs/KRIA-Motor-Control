{
 "cells": [
  {
   "cell_type": "markdown",
   "id": "d4f5ed66",
   "metadata": {},
   "source": [
    "# DEMO Motor Control on KRIA KR260"
   ]
  },
  {
   "cell_type": "code",
   "execution_count": 1,
   "id": "e38a6273",
   "metadata": {},
   "outputs": [],
   "source": [
    "from spyn_lib.motor_control import *"
   ]
  },
  {
   "cell_type": "markdown",
   "id": "c06c6e36",
   "metadata": {},
   "source": [
    "## Instantiate Motor Control on KR260"
   ]
  },
  {
   "cell_type": "code",
   "execution_count": 2,
   "id": "c87330c6",
   "metadata": {},
   "outputs": [
    {
     "data": {
      "application/javascript": [
       "\n",
       "try {\n",
       "require(['notebook/js/codecell'], function(codecell) {\n",
       "  codecell.CodeCell.options_default.highlight_modes[\n",
       "      'magic_text/x-csrc'] = {'reg':[/^%%microblaze/]};\n",
       "  Jupyter.notebook.events.one('kernel_ready.Kernel', function(){\n",
       "      Jupyter.notebook.get_cells().map(function(cell){\n",
       "          if (cell.cell_type == 'code'){ cell.auto_highlight(); } }) ;\n",
       "  });\n",
       "});\n",
       "} catch (e) {};\n"
      ]
     },
     "metadata": {},
     "output_type": "display_data"
    },
    {
     "data": {
      "application/javascript": [
       "\n",
       "try {\n",
       "require(['notebook/js/codecell'], function(codecell) {\n",
       "  codecell.CodeCell.options_default.highlight_modes[\n",
       "      'magic_text/x-csrc'] = {'reg':[/^%%pybind11/]};\n",
       "  Jupyter.notebook.events.one('kernel_ready.Kernel', function(){\n",
       "      Jupyter.notebook.get_cells().map(function(cell){\n",
       "          if (cell.cell_type == 'code'){ cell.auto_highlight(); } }) ;\n",
       "  });\n",
       "});\n",
       "} catch (e) {};\n"
      ]
     },
     "metadata": {},
     "output_type": "display_data"
    }
   ],
   "source": [
    "mc = motor_control(\"fp_foc_kr260_4.bit\")"
   ]
  },
  {
   "cell_type": "markdown",
   "id": "577b6f13",
   "metadata": {},
   "source": [
    "## Align motor to phase A"
   ]
  },
  {
   "cell_type": "code",
   "execution_count": 5,
   "id": "940673c0",
   "metadata": {},
   "outputs": [],
   "source": [
    "mc.init_motor()"
   ]
  },
  {
   "cell_type": "markdown",
   "id": "67a9643e",
   "metadata": {},
   "source": [
    "## Select control mode (velocity - torque - manual)"
   ]
  },
  {
   "cell_type": "raw",
   "id": "63e80e5e",
   "metadata": {},
   "source": [
    "mc.set_mode(\"velocity\")"
   ]
  },
  {
   "cell_type": "markdown",
   "id": "65682c85",
   "metadata": {},
   "source": [
    "## Set reference to controller"
   ]
  },
  {
   "cell_type": "raw",
   "id": "fd04102e",
   "metadata": {},
   "source": [
    "mc.set_reference(-2000)"
   ]
  },
  {
   "cell_type": "markdown",
   "id": "2c0cb1b1",
   "metadata": {},
   "source": [
    "## Interactive Dashboard"
   ]
  },
  {
   "cell_type": "code",
   "execution_count": 6,
   "id": "541564ee",
   "metadata": {},
   "outputs": [
    {
     "data": {
      "application/vnd.jupyter.widget-view+json": {
       "model_id": "b7adfdf74de0468d80512c6283c7e9cb",
       "version_major": 2,
       "version_minor": 0
      },
      "text/plain": [
       "VBox(children=(HBox(children=(ToggleButton(value=False, button_style='success', description='Motor'), Dropdown…"
      ]
     },
     "metadata": {},
     "output_type": "display_data"
    }
   ],
   "source": [
    "from ipywidgets import interact, interactive, HBox, VBox\n",
    "import ipywidgets as widgets\n",
    "\n",
    "text = {'Motor': 'success', 'Forward': 'info', 'Reverse': 'warning'}\n",
    "buttons, colors = list(text.keys()), list(text.values())\n",
    "\n",
    "toggle = [\n",
    "    widgets.ToggleButton(description=f'{buttons[i]}',\n",
    "                         button_style=f'{colors[i]}')\n",
    "    for i in range(3)]\n",
    "mode = widgets.Dropdown(options=['Speed', 'Current'])\n",
    "\n",
    "\n",
    "def clicked(toggle_0=toggle[0], mode=mode, toggle_1=toggle[1],\n",
    "            toggle_2=toggle[2], RPM=None, Torque=None):\n",
    "    if toggle_0:\n",
    "        if mode == 'Speed':\n",
    "            mc.set_mode('velocity')\n",
    "            mc.set_reference(-RPM)\n",
    "        elif mode == 'Current':\n",
    "            mc.set_mode('torque')\n",
    "            mc.set_reference(Torque)\n",
    "    else:\n",
    "        mc.set_mode(\"off\")\n",
    "\n",
    "\n",
    "w = interactive(clicked,\n",
    "                RPM=widgets.IntSlider(min=-3000, max=3000, step=1, value=500),\n",
    "                Torque=widgets.IntSlider(min=-1000, max=1000, step=1, value=300))\n",
    "VBox([HBox(w.children[:2]), w.children[2], w.children[3], w.children[4],\n",
    "      w.children[5]])"
   ]
  },
  {
   "cell_type": "markdown",
   "id": "083ccd9c",
   "metadata": {},
   "source": [
    "## Plot Ialpha vs Ibeta"
   ]
  },
  {
   "cell_type": "code",
   "execution_count": null,
   "id": "7714aaa5",
   "metadata": {},
   "outputs": [],
   "source": [
    "Ialpha, Ibeta = mc.get_alpha_beta()"
   ]
  },
  {
   "cell_type": "code",
   "execution_count": null,
   "id": "994f51bb",
   "metadata": {},
   "outputs": [],
   "source": [
    "%matplotlib inline\n",
    "import matplotlib.pyplot as plt\n",
    "fig = plt.figure(figsize=(15, 10))\n",
    "ax = fig.add_subplot(111)\n",
    "ax.scatter(Ialpha, Ibeta)\n",
    "plt.show()"
   ]
  },
  {
   "cell_type": "code",
   "execution_count": null,
   "id": "b8da7b4c",
   "metadata": {},
   "outputs": [],
   "source": []
  }
 ],
 "metadata": {
  "kernelspec": {
   "display_name": "Python 3 (ipykernel)",
   "language": "python",
   "name": "python3"
  },
  "language_info": {
   "codemirror_mode": {
    "name": "ipython",
    "version": 3
   },
   "file_extension": ".py",
   "mimetype": "text/x-python",
   "name": "python",
   "nbconvert_exporter": "python",
   "pygments_lexer": "ipython3",
   "version": "3.10.6"
  }
 },
 "nbformat": 4,
 "nbformat_minor": 5
}
