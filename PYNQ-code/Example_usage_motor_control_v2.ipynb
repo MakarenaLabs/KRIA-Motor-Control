{
 "cells": [
  {
   "cell_type": "markdown",
   "id": "78b52422",
   "metadata": {},
   "source": [
    "# Import Libraries"
   ]
  },
  {
   "cell_type": "code",
   "execution_count": null,
   "id": "624ec42e",
   "metadata": {},
   "outputs": [],
   "source": [
    "from spyn_lib.motor_control_v2 import *"
   ]
  },
  {
   "cell_type": "markdown",
   "id": "206ece2f",
   "metadata": {},
   "source": [
    "# Download Bitstream and Set Motor"
   ]
  },
  {
   "cell_type": "code",
   "execution_count": null,
   "id": "d5c0d29a",
   "metadata": {
    "tags": []
   },
   "outputs": [],
   "source": [
    "mc = motor_control(\"foc_v16.bit\")"
   ]
  },
  {
   "cell_type": "code",
   "execution_count": null,
   "id": "622b8866",
   "metadata": {},
   "outputs": [],
   "source": [
    "mc.init_motor()"
   ]
  },
  {
   "cell_type": "markdown",
   "id": "43f7003a",
   "metadata": {},
   "source": [
    "# Set Control Mode\n",
    "\n",
    "## Possible Modes (\"torque\", \"velocity\")"
   ]
  },
  {
   "cell_type": "code",
   "execution_count": null,
   "id": "f2d28241",
   "metadata": {},
   "outputs": [],
   "source": [
    "mc.set_mode(\"torque\")"
   ]
  },
  {
   "cell_type": "code",
   "execution_count": null,
   "id": "f439491e",
   "metadata": {},
   "outputs": [],
   "source": [
    "mc.set_reference(0)"
   ]
  },
  {
   "cell_type": "code",
   "execution_count": null,
   "id": "fa50775e",
   "metadata": {},
   "outputs": [],
   "source": []
  }
 ],
 "metadata": {
  "kernelspec": {
   "display_name": "Python 3 (ipykernel)",
   "language": "python",
   "name": "python3"
  },
  "language_info": {
   "codemirror_mode": {
    "name": "ipython",
    "version": 3
   },
   "file_extension": ".py",
   "mimetype": "text/x-python",
   "name": "python",
   "nbconvert_exporter": "python",
   "pygments_lexer": "ipython3",
   "version": "3.10.6"
  }
 },
 "nbformat": 4,
 "nbformat_minor": 5
}
