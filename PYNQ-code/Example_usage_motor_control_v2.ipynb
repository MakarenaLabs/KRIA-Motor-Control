{
 "cells": [
  {
   "cell_type": "code",
   "execution_count": 1,
   "id": "624ec42e",
   "metadata": {},
   "outputs": [],
   "source": [
    "from spyn_lib.motor_control_v2 import *"
   ]
  },
  {
   "cell_type": "code",
   "execution_count": 2,
   "id": "d5c0d29a",
   "metadata": {
    "tags": []
   },
   "outputs": [
    {
     "data": {
      "application/javascript": [
       "\n",
       "try {\n",
       "require(['notebook/js/codecell'], function(codecell) {\n",
       "  codecell.CodeCell.options_default.highlight_modes[\n",
       "      'magic_text/x-csrc'] = {'reg':[/^%%microblaze/]};\n",
       "  Jupyter.notebook.events.one('kernel_ready.Kernel', function(){\n",
       "      Jupyter.notebook.get_cells().map(function(cell){\n",
       "          if (cell.cell_type == 'code'){ cell.auto_highlight(); } }) ;\n",
       "  });\n",
       "});\n",
       "} catch (e) {};\n"
      ]
     },
     "metadata": {},
     "output_type": "display_data"
    },
    {
     "data": {
      "application/javascript": [
       "\n",
       "try {\n",
       "require(['notebook/js/codecell'], function(codecell) {\n",
       "  codecell.CodeCell.options_default.highlight_modes[\n",
       "      'magic_text/x-csrc'] = {'reg':[/^%%pybind11/]};\n",
       "  Jupyter.notebook.events.one('kernel_ready.Kernel', function(){\n",
       "      Jupyter.notebook.get_cells().map(function(cell){\n",
       "          if (cell.cell_type == 'code'){ cell.auto_highlight(); } }) ;\n",
       "  });\n",
       "});\n",
       "} catch (e) {};\n"
      ]
     },
     "metadata": {},
     "output_type": "display_data"
    }
   ],
   "source": [
    "mc = motor_control(\"foc_v5.bit\")"
   ]
  },
  {
   "cell_type": "code",
   "execution_count": 3,
   "id": "622b8866",
   "metadata": {},
   "outputs": [],
   "source": [
    "mc.init_motor()"
   ]
  },
  {
   "cell_type": "code",
   "execution_count": 9,
   "id": "af328955",
   "metadata": {},
   "outputs": [],
   "source": [
    "mc.set_mode(\"velocity\")"
   ]
  },
  {
   "cell_type": "code",
   "execution_count": 16,
   "id": "6f48372d",
   "metadata": {},
   "outputs": [],
   "source": [
    "mc.set_reference(0)"
   ]
  },
  {
   "cell_type": "code",
   "execution_count": null,
   "id": "40cf75d6",
   "metadata": {},
   "outputs": [],
   "source": []
  }
 ],
 "metadata": {
  "kernelspec": {
   "display_name": "Python 3 (ipykernel)",
   "language": "python",
   "name": "python3"
  },
  "language_info": {
   "codemirror_mode": {
    "name": "ipython",
    "version": 3
   },
   "file_extension": ".py",
   "mimetype": "text/x-python",
   "name": "python",
   "nbconvert_exporter": "python",
   "pygments_lexer": "ipython3",
   "version": "3.10.6"
  }
 },
 "nbformat": 4,
 "nbformat_minor": 5
}
