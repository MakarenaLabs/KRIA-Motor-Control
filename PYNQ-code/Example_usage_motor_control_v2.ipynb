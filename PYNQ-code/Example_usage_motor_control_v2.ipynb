{
 "cells": [
  {
   "cell_type": "code",
   "execution_count": 1,
   "id": "624ec42e",
   "metadata": {},
   "outputs": [
    {
     "data": {
      "application/javascript": [
       "\n",
       "try {\n",
       "require(['notebook/js/codecell'], function(codecell) {\n",
       "  codecell.CodeCell.options_default.highlight_modes[\n",
       "      'magic_text/x-csrc'] = {'reg':[/^%%microblaze/]};\n",
       "  Jupyter.notebook.events.one('kernel_ready.Kernel', function(){\n",
       "      Jupyter.notebook.get_cells().map(function(cell){\n",
       "          if (cell.cell_type == 'code'){ cell.auto_highlight(); } }) ;\n",
       "  });\n",
       "});\n",
       "} catch (e) {};\n"
      ]
     },
     "metadata": {},
     "output_type": "display_data"
    },
    {
     "data": {
      "application/javascript": [
       "\n",
       "try {\n",
       "require(['notebook/js/codecell'], function(codecell) {\n",
       "  codecell.CodeCell.options_default.highlight_modes[\n",
       "      'magic_text/x-csrc'] = {'reg':[/^%%pybind11/]};\n",
       "  Jupyter.notebook.events.one('kernel_ready.Kernel', function(){\n",
       "      Jupyter.notebook.get_cells().map(function(cell){\n",
       "          if (cell.cell_type == 'code'){ cell.auto_highlight(); } }) ;\n",
       "  });\n",
       "});\n",
       "} catch (e) {};\n"
      ]
     },
     "metadata": {},
     "output_type": "display_data"
    }
   ],
   "source": [
    "from spyn_lib.motor_control_v2 import *"
   ]
  },
  {
   "cell_type": "code",
   "execution_count": 11,
   "id": "d5c0d29a",
   "metadata": {},
   "outputs": [],
   "source": [
    "mc = motor_control(\"foc.bit\")"
   ]
  },
  {
   "cell_type": "code",
   "execution_count": 3,
   "id": "622b8866",
   "metadata": {},
   "outputs": [],
   "source": [
    "mc.init_motor()"
   ]
  },
  {
   "cell_type": "code",
   "execution_count": 4,
   "id": "af328955",
   "metadata": {},
   "outputs": [],
   "source": [
    "mc.set_mode(\"velocity\")"
   ]
  },
  {
   "cell_type": "code",
   "execution_count": 10,
   "id": "6f48372d",
   "metadata": {},
   "outputs": [],
   "source": [
    "mc.set_reference(2000)"
   ]
  },
  {
   "cell_type": "code",
   "execution_count": null,
   "id": "64322508",
   "metadata": {},
   "outputs": [],
   "source": [
    "for i in range(1000):\n",
    "    mc.log_info()\n",
    "print(mc.get_logger_dict())"
   ]
  },
  {
   "cell_type": "code",
   "execution_count": null,
   "id": "40cf75d6",
   "metadata": {},
   "outputs": [],
   "source": []
  }
 ],
 "metadata": {
  "kernelspec": {
   "display_name": "Python 3",
   "language": "python",
   "name": "python3"
  },
  "language_info": {
   "codemirror_mode": {
    "name": "ipython",
    "version": 3
   },
   "file_extension": ".py",
   "mimetype": "text/x-python",
   "name": "python",
   "nbconvert_exporter": "python",
   "pygments_lexer": "ipython3",
   "version": "3.8.2"
  }
 },
 "nbformat": 4,
 "nbformat_minor": 5
}
